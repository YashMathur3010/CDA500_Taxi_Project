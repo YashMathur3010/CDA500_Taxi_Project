{
 "cells": [
  {
   "cell_type": "code",
   "execution_count": 1,
   "metadata": {},
   "outputs": [],
   "source": [
    "%load_ext autoreload\n",
    "%autoreload 2"
   ]
  },
  {
   "cell_type": "code",
   "execution_count": 6,
   "metadata": {},
   "outputs": [],
   "source": [
    "import sys\n",
    "import os\n",
    "\n",
    "# Add the parent directory to the Python path\n",
    "sys.path.append(os.path.abspath(os.path.join(os.getcwd(), \"..\")))"
   ]
  },
  {
   "cell_type": "code",
   "execution_count": 41,
   "metadata": {},
   "outputs": [],
   "source": [
    "import numpy as np\n",
    "import pandas as pd\n",
    "from scipy.fft import fft\n",
    "from statsmodels.tsa.arima.model import ARIMA\n",
    "from prophet import Prophet\n",
    "from sklearn.metrics import mean_squared_error, mean_absolute_error"
   ]
  },
  {
   "cell_type": "code",
   "execution_count": 12,
   "metadata": {},
   "outputs": [
    {
     "name": "stdout",
     "output_type": "stream",
     "text": [
      "File already exists for 2023-01.\n",
      "Loading data for 2023-01...\n",
      "Total records: 3,066,766\n",
      "Valid records: 2,993,140\n",
      "Records dropped: 73,626 (2.40%)\n",
      "Successfully processed data for 2023-01.\n",
      "File already exists for 2023-02.\n",
      "Loading data for 2023-02...\n",
      "Total records: 2,913,955\n",
      "Valid records: 2,845,058\n",
      "Records dropped: 68,897 (2.36%)\n",
      "Successfully processed data for 2023-02.\n",
      "File already exists for 2023-03.\n",
      "Loading data for 2023-03...\n",
      "Total records: 3,403,766\n",
      "Valid records: 3,331,705\n",
      "Records dropped: 72,061 (2.12%)\n",
      "Successfully processed data for 2023-03.\n",
      "File already exists for 2023-04.\n",
      "Loading data for 2023-04...\n",
      "Total records: 3,288,250\n",
      "Valid records: 3,214,922\n",
      "Records dropped: 73,328 (2.23%)\n",
      "Successfully processed data for 2023-04.\n",
      "File already exists for 2023-05.\n",
      "Loading data for 2023-05...\n",
      "Total records: 3,513,649\n",
      "Valid records: 3,435,875\n",
      "Records dropped: 77,774 (2.21%)\n",
      "Successfully processed data for 2023-05.\n",
      "File already exists for 2023-06.\n",
      "Loading data for 2023-06...\n",
      "Total records: 3,307,234\n",
      "Valid records: 3,233,969\n",
      "Records dropped: 73,265 (2.22%)\n",
      "Successfully processed data for 2023-06.\n",
      "File already exists for 2023-07.\n",
      "Loading data for 2023-07...\n",
      "Total records: 2,907,108\n",
      "Valid records: 2,838,637\n",
      "Records dropped: 68,471 (2.36%)\n",
      "Successfully processed data for 2023-07.\n",
      "File already exists for 2023-08.\n",
      "Loading data for 2023-08...\n",
      "Total records: 2,824,209\n",
      "Valid records: 2,758,739\n",
      "Records dropped: 65,470 (2.32%)\n",
      "Successfully processed data for 2023-08.\n",
      "File already exists for 2023-09.\n",
      "Loading data for 2023-09...\n",
      "Total records: 2,846,722\n",
      "Valid records: 2,782,920\n",
      "Records dropped: 63,802 (2.24%)\n",
      "Successfully processed data for 2023-09.\n",
      "File already exists for 2023-10.\n",
      "Loading data for 2023-10...\n",
      "Total records: 3,522,285\n",
      "Valid records: 3,446,406\n",
      "Records dropped: 75,879 (2.15%)\n",
      "Successfully processed data for 2023-10.\n",
      "File already exists for 2023-11.\n",
      "Loading data for 2023-11...\n",
      "Total records: 3,339,715\n",
      "Valid records: 3,267,940\n",
      "Records dropped: 71,775 (2.15%)\n",
      "Successfully processed data for 2023-11.\n",
      "File already exists for 2023-12.\n",
      "Loading data for 2023-12...\n",
      "Total records: 3,376,567\n",
      "Valid records: 3,313,957\n",
      "Records dropped: 62,610 (1.85%)\n",
      "Successfully processed data for 2023-12.\n",
      "Combining all monthly data...\n",
      "Data loading and processing complete!\n"
     ]
    }
   ],
   "source": [
    "# Now you can import from src\n",
    "from src.data_utils import load_and_process_taxi_data\n",
    "rides = load_and_process_taxi_data(year=2023)"
   ]
  },
  {
   "cell_type": "code",
   "execution_count": 87,
   "metadata": {},
   "outputs": [
    {
     "data": {
      "text/html": [
       "<div>\n",
       "<style scoped>\n",
       "    .dataframe tbody tr th:only-of-type {\n",
       "        vertical-align: middle;\n",
       "    }\n",
       "\n",
       "    .dataframe tbody tr th {\n",
       "        vertical-align: top;\n",
       "    }\n",
       "\n",
       "    .dataframe thead th {\n",
       "        text-align: right;\n",
       "    }\n",
       "</style>\n",
       "<table border=\"1\" class=\"dataframe\">\n",
       "  <thead>\n",
       "    <tr style=\"text-align: right;\">\n",
       "      <th></th>\n",
       "      <th>pickup_hour</th>\n",
       "      <th>pickup_location_id</th>\n",
       "      <th>rides</th>\n",
       "    </tr>\n",
       "  </thead>\n",
       "  <tbody>\n",
       "    <tr>\n",
       "      <th>0</th>\n",
       "      <td>2023-01-01 00:00:00</td>\n",
       "      <td>2</td>\n",
       "      <td>0</td>\n",
       "    </tr>\n",
       "    <tr>\n",
       "      <th>1</th>\n",
       "      <td>2023-01-01 01:00:00</td>\n",
       "      <td>2</td>\n",
       "      <td>0</td>\n",
       "    </tr>\n",
       "    <tr>\n",
       "      <th>2</th>\n",
       "      <td>2023-01-01 02:00:00</td>\n",
       "      <td>2</td>\n",
       "      <td>0</td>\n",
       "    </tr>\n",
       "    <tr>\n",
       "      <th>3</th>\n",
       "      <td>2023-01-01 03:00:00</td>\n",
       "      <td>2</td>\n",
       "      <td>0</td>\n",
       "    </tr>\n",
       "    <tr>\n",
       "      <th>4</th>\n",
       "      <td>2023-01-01 04:00:00</td>\n",
       "      <td>2</td>\n",
       "      <td>0</td>\n",
       "    </tr>\n",
       "  </tbody>\n",
       "</table>\n",
       "</div>"
      ],
      "text/plain": [
       "          pickup_hour  pickup_location_id  rides\n",
       "0 2023-01-01 00:00:00                   2      0\n",
       "1 2023-01-01 01:00:00                   2      0\n",
       "2 2023-01-01 02:00:00                   2      0\n",
       "3 2023-01-01 03:00:00                   2      0\n",
       "4 2023-01-01 04:00:00                   2      0"
      ]
     },
     "execution_count": 87,
     "metadata": {},
     "output_type": "execute_result"
    }
   ],
   "source": [
    "from src.data_utils import transform_raw_data_into_ts_data\n",
    "\n",
    "ts_data = transform_raw_data_into_ts_data(rides)\n",
    "ts_data.head()"
   ]
  },
  {
   "cell_type": "code",
   "execution_count": 32,
   "metadata": {},
   "outputs": [
    {
     "name": "stdout",
     "output_type": "stream",
     "text": [
      "(2277600, 3)\n"
     ]
    }
   ],
   "source": [
    "print(ts_data.shape)"
   ]
  },
  {
   "cell_type": "code",
   "execution_count": 88,
   "metadata": {},
   "outputs": [
    {
     "data": {
      "text/plain": [
       "(87620, 675)"
      ]
     },
     "execution_count": 88,
     "metadata": {},
     "output_type": "execute_result"
    }
   ],
   "source": [
    "from src.config import TRANSFORMED_DATA_DIR\n",
    "df = pd.read_parquet(TRANSFORMED_DATA_DIR / \"tabular_data.parquet\")\n",
    "df.shape"
   ]
  },
  {
   "cell_type": "code",
   "execution_count": 89,
   "metadata": {},
   "outputs": [
    {
     "name": "stdout",
     "output_type": "stream",
     "text": [
      "(55900, 674)\n",
      "(55900,)\n",
      "(31720, 674)\n",
      "(31720,)\n"
     ]
    }
   ],
   "source": [
    "from datetime import datetime\n",
    "\n",
    "from src.data_utils import split_time_series_data\n",
    "\n",
    "X_train, y_train, X_test, y_test = split_time_series_data(\n",
    "    df,\n",
    "    cutoff_date=datetime(2023, 9, 1, 0, 0, 0),\n",
    "    target_column=\"target\"\n",
    ")\n",
    "\n",
    "print(X_train.shape)\n",
    "print(y_train.shape)\n",
    "print(X_test.shape)\n",
    "print(y_test.shape)"
   ]
  },
  {
   "cell_type": "code",
   "execution_count": 27,
   "metadata": {},
   "outputs": [],
   "source": [
    "def extract_fft_features_with_metadata(df, feature_col=\"rides\", n_fft_features=10):\n",
    "    \"\"\"\n",
    "    Extracts FFT-based features from time series data for each location ID.\n",
    "    Returns a DataFrame with columns in the order: [FFT features, pickup_hour, pickup_location_id, target]\n",
    "\n",
    "    Parameters:\n",
    "        df (pd.DataFrame): Input DataFrame with 'pickup_hour', 'pickup_location_id', and feature column.\n",
    "        feature_col (str): Column name containing the time series values (default is \"rides\").\n",
    "        n_fft_features (int): Number of FFT features to extract (default is 10).\n",
    "\n",
    "    Returns:\n",
    "        pd.DataFrame: DataFrame with FFT features, pickup_hour, pickup_location_id, and target rides.\n",
    "    \"\"\"\n",
    "    # List to store transformed data for each location\n",
    "    transformed_data = []\n",
    "\n",
    "    # Loop through each unique location ID\n",
    "    for location_id in df[\"pickup_location_id\"].unique():\n",
    "        # Filter data for the current location ID\n",
    "        location_data = df[df[\"pickup_location_id\"] == location_id].sort_values(\"pickup_hour\").reset_index(drop=True)\n",
    "        \n",
    "        # Extract numerical values from the feature column\n",
    "        values = location_data[feature_col].values\n",
    "        \n",
    "        # Ensure there are enough rows for FFT\n",
    "        if len(values) < 2:\n",
    "            print(f\"Skipping location_id {location_id}: Not enough data for FFT.\")\n",
    "            continue\n",
    "        \n",
    "        # Compute FFT and take only the first `n_fft_features` components\n",
    "        fft_result = fft(values)\n",
    "        fft_magnitude = np.abs(fft_result)[:n_fft_features]\n",
    "        \n",
    "        # Prepare rows with FFT features and metadata\n",
    "        for i in range(len(location_data)):\n",
    "            row = [*fft_magnitude,  # Unpack FFT features\n",
    "                   location_data.loc[i, \"pickup_hour\"],\n",
    "                   location_id,\n",
    "                   location_data.loc[i, feature_col]]\n",
    "            transformed_data.append(row)\n",
    "    \n",
    "    # Create column names\n",
    "    fft_feature_cols = [f\"fft_feature_{i+1}\" for i in range(n_fft_features)]\n",
    "    column_names = fft_feature_cols + [\"pickup_hour\", \"pickup_location_id\", \"target\"]\n",
    "    \n",
    "    # Convert the list of rows into a DataFrame\n",
    "    transformed_df = pd.DataFrame(transformed_data, columns=column_names)\n",
    "    \n",
    "    return transformed_df"
   ]
  },
  {
   "cell_type": "code",
   "execution_count": 28,
   "metadata": {},
   "outputs": [],
   "source": [
    "fft_features = extract_fft_features_with_metadata(ts_data)"
   ]
  },
  {
   "cell_type": "code",
   "execution_count": 30,
   "metadata": {},
   "outputs": [
    {
     "data": {
      "text/html": [
       "<div>\n",
       "<style scoped>\n",
       "    .dataframe tbody tr th:only-of-type {\n",
       "        vertical-align: middle;\n",
       "    }\n",
       "\n",
       "    .dataframe tbody tr th {\n",
       "        vertical-align: top;\n",
       "    }\n",
       "\n",
       "    .dataframe thead th {\n",
       "        text-align: right;\n",
       "    }\n",
       "</style>\n",
       "<table border=\"1\" class=\"dataframe\">\n",
       "  <thead>\n",
       "    <tr style=\"text-align: right;\">\n",
       "      <th></th>\n",
       "      <th>fft_feature_1</th>\n",
       "      <th>fft_feature_2</th>\n",
       "      <th>fft_feature_3</th>\n",
       "      <th>fft_feature_4</th>\n",
       "      <th>fft_feature_5</th>\n",
       "      <th>fft_feature_6</th>\n",
       "      <th>fft_feature_7</th>\n",
       "      <th>fft_feature_8</th>\n",
       "      <th>fft_feature_9</th>\n",
       "      <th>fft_feature_10</th>\n",
       "      <th>pickup_hour</th>\n",
       "      <th>pickup_location_id</th>\n",
       "      <th>target</th>\n",
       "    </tr>\n",
       "  </thead>\n",
       "  <tbody>\n",
       "    <tr>\n",
       "      <th>0</th>\n",
       "      <td>33.0</td>\n",
       "      <td>5.394222</td>\n",
       "      <td>3.503057</td>\n",
       "      <td>4.963821</td>\n",
       "      <td>4.775043</td>\n",
       "      <td>4.32156</td>\n",
       "      <td>8.498243</td>\n",
       "      <td>5.760942</td>\n",
       "      <td>5.414939</td>\n",
       "      <td>2.261714</td>\n",
       "      <td>2023-01-01 00:00:00</td>\n",
       "      <td>2</td>\n",
       "      <td>0</td>\n",
       "    </tr>\n",
       "    <tr>\n",
       "      <th>1</th>\n",
       "      <td>33.0</td>\n",
       "      <td>5.394222</td>\n",
       "      <td>3.503057</td>\n",
       "      <td>4.963821</td>\n",
       "      <td>4.775043</td>\n",
       "      <td>4.32156</td>\n",
       "      <td>8.498243</td>\n",
       "      <td>5.760942</td>\n",
       "      <td>5.414939</td>\n",
       "      <td>2.261714</td>\n",
       "      <td>2023-01-01 01:00:00</td>\n",
       "      <td>2</td>\n",
       "      <td>0</td>\n",
       "    </tr>\n",
       "    <tr>\n",
       "      <th>2</th>\n",
       "      <td>33.0</td>\n",
       "      <td>5.394222</td>\n",
       "      <td>3.503057</td>\n",
       "      <td>4.963821</td>\n",
       "      <td>4.775043</td>\n",
       "      <td>4.32156</td>\n",
       "      <td>8.498243</td>\n",
       "      <td>5.760942</td>\n",
       "      <td>5.414939</td>\n",
       "      <td>2.261714</td>\n",
       "      <td>2023-01-01 02:00:00</td>\n",
       "      <td>2</td>\n",
       "      <td>0</td>\n",
       "    </tr>\n",
       "    <tr>\n",
       "      <th>3</th>\n",
       "      <td>33.0</td>\n",
       "      <td>5.394222</td>\n",
       "      <td>3.503057</td>\n",
       "      <td>4.963821</td>\n",
       "      <td>4.775043</td>\n",
       "      <td>4.32156</td>\n",
       "      <td>8.498243</td>\n",
       "      <td>5.760942</td>\n",
       "      <td>5.414939</td>\n",
       "      <td>2.261714</td>\n",
       "      <td>2023-01-01 03:00:00</td>\n",
       "      <td>2</td>\n",
       "      <td>0</td>\n",
       "    </tr>\n",
       "    <tr>\n",
       "      <th>4</th>\n",
       "      <td>33.0</td>\n",
       "      <td>5.394222</td>\n",
       "      <td>3.503057</td>\n",
       "      <td>4.963821</td>\n",
       "      <td>4.775043</td>\n",
       "      <td>4.32156</td>\n",
       "      <td>8.498243</td>\n",
       "      <td>5.760942</td>\n",
       "      <td>5.414939</td>\n",
       "      <td>2.261714</td>\n",
       "      <td>2023-01-01 04:00:00</td>\n",
       "      <td>2</td>\n",
       "      <td>0</td>\n",
       "    </tr>\n",
       "  </tbody>\n",
       "</table>\n",
       "</div>"
      ],
      "text/plain": [
       "   fft_feature_1  fft_feature_2  fft_feature_3  fft_feature_4  fft_feature_5  \\\n",
       "0           33.0       5.394222       3.503057       4.963821       4.775043   \n",
       "1           33.0       5.394222       3.503057       4.963821       4.775043   \n",
       "2           33.0       5.394222       3.503057       4.963821       4.775043   \n",
       "3           33.0       5.394222       3.503057       4.963821       4.775043   \n",
       "4           33.0       5.394222       3.503057       4.963821       4.775043   \n",
       "\n",
       "   fft_feature_6  fft_feature_7  fft_feature_8  fft_feature_9  fft_feature_10  \\\n",
       "0        4.32156       8.498243       5.760942       5.414939        2.261714   \n",
       "1        4.32156       8.498243       5.760942       5.414939        2.261714   \n",
       "2        4.32156       8.498243       5.760942       5.414939        2.261714   \n",
       "3        4.32156       8.498243       5.760942       5.414939        2.261714   \n",
       "4        4.32156       8.498243       5.760942       5.414939        2.261714   \n",
       "\n",
       "          pickup_hour  pickup_location_id  target  \n",
       "0 2023-01-01 00:00:00                   2       0  \n",
       "1 2023-01-01 01:00:00                   2       0  \n",
       "2 2023-01-01 02:00:00                   2       0  \n",
       "3 2023-01-01 03:00:00                   2       0  \n",
       "4 2023-01-01 04:00:00                   2       0  "
      ]
     },
     "execution_count": 30,
     "metadata": {},
     "output_type": "execute_result"
    }
   ],
   "source": [
    "fft_features.head()"
   ]
  },
  {
   "cell_type": "code",
   "execution_count": 31,
   "metadata": {},
   "outputs": [
    {
     "name": "stdout",
     "output_type": "stream",
     "text": [
      "(1516320, 12)\n",
      "(1516320,)\n",
      "(761280, 12)\n",
      "(761280,)\n"
     ]
    }
   ],
   "source": [
    "from datetime import datetime\n",
    "\n",
    "from src.data_utils import split_time_series_data\n",
    "\n",
    "X_train_fft, y_train_fft, X_test_fft, y_test_fft = split_time_series_data(\n",
    "    fft_features,\n",
    "    cutoff_date=datetime(2023, 9, 1, 0, 0, 0),\n",
    "    target_column=\"target\"\n",
    ")\n",
    "\n",
    "print(X_train_fft.shape)\n",
    "print(y_train_fft.shape)\n",
    "print(X_test_fft.shape)\n",
    "print(y_test_fft.shape)"
   ]
  },
  {
   "cell_type": "code",
   "execution_count": 38,
   "metadata": {},
   "outputs": [
    {
     "data": {
      "text/html": [
       "<div>\n",
       "<style scoped>\n",
       "    .dataframe tbody tr th:only-of-type {\n",
       "        vertical-align: middle;\n",
       "    }\n",
       "\n",
       "    .dataframe tbody tr th {\n",
       "        vertical-align: top;\n",
       "    }\n",
       "\n",
       "    .dataframe thead th {\n",
       "        text-align: right;\n",
       "    }\n",
       "</style>\n",
       "<table border=\"1\" class=\"dataframe\">\n",
       "  <thead>\n",
       "    <tr style=\"text-align: right;\">\n",
       "      <th></th>\n",
       "      <th>fft_feature_1</th>\n",
       "      <th>fft_feature_2</th>\n",
       "      <th>fft_feature_3</th>\n",
       "      <th>fft_feature_4</th>\n",
       "      <th>fft_feature_5</th>\n",
       "      <th>fft_feature_6</th>\n",
       "      <th>fft_feature_7</th>\n",
       "      <th>fft_feature_8</th>\n",
       "      <th>fft_feature_9</th>\n",
       "      <th>fft_feature_10</th>\n",
       "      <th>pickup_hour</th>\n",
       "      <th>pickup_location_id</th>\n",
       "    </tr>\n",
       "  </thead>\n",
       "  <tbody>\n",
       "    <tr>\n",
       "      <th>0</th>\n",
       "      <td>33.0</td>\n",
       "      <td>5.394222</td>\n",
       "      <td>3.503057</td>\n",
       "      <td>4.963821</td>\n",
       "      <td>4.775043</td>\n",
       "      <td>4.32156</td>\n",
       "      <td>8.498243</td>\n",
       "      <td>5.760942</td>\n",
       "      <td>5.414939</td>\n",
       "      <td>2.261714</td>\n",
       "      <td>2023-01-01 00:00:00</td>\n",
       "      <td>2</td>\n",
       "    </tr>\n",
       "    <tr>\n",
       "      <th>1</th>\n",
       "      <td>33.0</td>\n",
       "      <td>5.394222</td>\n",
       "      <td>3.503057</td>\n",
       "      <td>4.963821</td>\n",
       "      <td>4.775043</td>\n",
       "      <td>4.32156</td>\n",
       "      <td>8.498243</td>\n",
       "      <td>5.760942</td>\n",
       "      <td>5.414939</td>\n",
       "      <td>2.261714</td>\n",
       "      <td>2023-01-01 01:00:00</td>\n",
       "      <td>2</td>\n",
       "    </tr>\n",
       "    <tr>\n",
       "      <th>2</th>\n",
       "      <td>33.0</td>\n",
       "      <td>5.394222</td>\n",
       "      <td>3.503057</td>\n",
       "      <td>4.963821</td>\n",
       "      <td>4.775043</td>\n",
       "      <td>4.32156</td>\n",
       "      <td>8.498243</td>\n",
       "      <td>5.760942</td>\n",
       "      <td>5.414939</td>\n",
       "      <td>2.261714</td>\n",
       "      <td>2023-01-01 02:00:00</td>\n",
       "      <td>2</td>\n",
       "    </tr>\n",
       "    <tr>\n",
       "      <th>3</th>\n",
       "      <td>33.0</td>\n",
       "      <td>5.394222</td>\n",
       "      <td>3.503057</td>\n",
       "      <td>4.963821</td>\n",
       "      <td>4.775043</td>\n",
       "      <td>4.32156</td>\n",
       "      <td>8.498243</td>\n",
       "      <td>5.760942</td>\n",
       "      <td>5.414939</td>\n",
       "      <td>2.261714</td>\n",
       "      <td>2023-01-01 03:00:00</td>\n",
       "      <td>2</td>\n",
       "    </tr>\n",
       "    <tr>\n",
       "      <th>4</th>\n",
       "      <td>33.0</td>\n",
       "      <td>5.394222</td>\n",
       "      <td>3.503057</td>\n",
       "      <td>4.963821</td>\n",
       "      <td>4.775043</td>\n",
       "      <td>4.32156</td>\n",
       "      <td>8.498243</td>\n",
       "      <td>5.760942</td>\n",
       "      <td>5.414939</td>\n",
       "      <td>2.261714</td>\n",
       "      <td>2023-01-01 04:00:00</td>\n",
       "      <td>2</td>\n",
       "    </tr>\n",
       "  </tbody>\n",
       "</table>\n",
       "</div>"
      ],
      "text/plain": [
       "   fft_feature_1  fft_feature_2  fft_feature_3  fft_feature_4  fft_feature_5  \\\n",
       "0           33.0       5.394222       3.503057       4.963821       4.775043   \n",
       "1           33.0       5.394222       3.503057       4.963821       4.775043   \n",
       "2           33.0       5.394222       3.503057       4.963821       4.775043   \n",
       "3           33.0       5.394222       3.503057       4.963821       4.775043   \n",
       "4           33.0       5.394222       3.503057       4.963821       4.775043   \n",
       "\n",
       "   fft_feature_6  fft_feature_7  fft_feature_8  fft_feature_9  fft_feature_10  \\\n",
       "0        4.32156       8.498243       5.760942       5.414939        2.261714   \n",
       "1        4.32156       8.498243       5.760942       5.414939        2.261714   \n",
       "2        4.32156       8.498243       5.760942       5.414939        2.261714   \n",
       "3        4.32156       8.498243       5.760942       5.414939        2.261714   \n",
       "4        4.32156       8.498243       5.760942       5.414939        2.261714   \n",
       "\n",
       "          pickup_hour  pickup_location_id  \n",
       "0 2023-01-01 00:00:00                   2  \n",
       "1 2023-01-01 01:00:00                   2  \n",
       "2 2023-01-01 02:00:00                   2  \n",
       "3 2023-01-01 03:00:00                   2  \n",
       "4 2023-01-01 04:00:00                   2  "
      ]
     },
     "execution_count": 38,
     "metadata": {},
     "output_type": "execute_result"
    }
   ],
   "source": [
    "X_train_fft.head()"
   ]
  },
  {
   "cell_type": "code",
   "execution_count": 42,
   "metadata": {},
   "outputs": [],
   "source": [
    "past_ride_columns = [c for c in X_train_fft.columns if c.startswith(\"fft_\")]\n",
    "X_train_only_numeric = X_train_fft[past_ride_columns]\n",
    "X_test_only_numeric = X_test_fft[past_ride_columns]"
   ]
  },
  {
   "cell_type": "code",
   "execution_count": 44,
   "metadata": {},
   "outputs": [],
   "source": [
    "def fit_arma(data, order):\n",
    "    model = ARIMA(data, order=(order[0], 0, order[1]))\n",
    "    results = model.fit()\n",
    "    return model, results"
   ]
  },
  {
   "cell_type": "code",
   "execution_count": null,
   "metadata": {},
   "outputs": [
    {
     "name": "stderr",
     "output_type": "stream",
     "text": [
      "/opt/miniconda3/envs/taxi_project/lib/python3.11/site-packages/statsmodels/tsa/statespace/sarimax.py:966: UserWarning: Non-stationary starting autoregressive parameters found. Using zeros as starting parameters.\n",
      "  warn('Non-stationary starting autoregressive parameters'\n",
      "/opt/miniconda3/envs/taxi_project/lib/python3.11/site-packages/statsmodels/tsa/statespace/sarimax.py:978: UserWarning: Non-invertible starting MA parameters found. Using zeros as starting parameters.\n",
      "  warn('Non-invertible starting MA parameters found.'\n"
     ]
    },
    {
     "data": {
      "text/plain": [
       "18.11691184582702"
      ]
     },
     "execution_count": 48,
     "metadata": {},
     "output_type": "execute_result"
    }
   ],
   "source": [
    "arma_model, arma_result = fit_arma(y_train, order=(2, 1))\n",
    "arma_predictions = arma_result.forecast(steps=len(y_test))\n",
    "arma_mae = mean_absolute_error(y_test, arma_predictions)\n",
    "arma_mae"
   ]
  },
  {
   "cell_type": "code",
   "execution_count": 53,
   "metadata": {},
   "outputs": [
    {
     "data": {
      "text/plain": [
       "26.77860538182816"
      ]
     },
     "execution_count": 53,
     "metadata": {},
     "output_type": "execute_result"
    }
   ],
   "source": [
    "arma_model, arma_result = fit_arma(y_train_fft, order=(2, 1))\n",
    "arma_predictions = arma_result.forecast(steps=len(y_test_fft))\n",
    "arma_mae = mean_absolute_error(y_test_fft, arma_predictions)\n",
    "arma_mae"
   ]
  },
  {
   "cell_type": "code",
   "execution_count": 54,
   "metadata": {},
   "outputs": [],
   "source": [
    "def fit_arima(data, order):\n",
    "    model = ARIMA(data, order=order)\n",
    "    results = model.fit()\n",
    "    return model, results"
   ]
  },
  {
   "cell_type": "code",
   "execution_count": 82,
   "metadata": {},
   "outputs": [
    {
     "name": "stderr",
     "output_type": "stream",
     "text": [
      "/opt/miniconda3/envs/taxi_project/lib/python3.11/site-packages/statsmodels/tsa/statespace/sarimax.py:966: UserWarning: Non-stationary starting autoregressive parameters found. Using zeros as starting parameters.\n",
      "  warn('Non-stationary starting autoregressive parameters'\n",
      "/opt/miniconda3/envs/taxi_project/lib/python3.11/site-packages/statsmodels/tsa/statespace/sarimax.py:978: UserWarning: Non-invertible starting MA parameters found. Using zeros as starting parameters.\n",
      "  warn('Non-invertible starting MA parameters found.'\n"
     ]
    },
    {
     "data": {
      "text/plain": [
       "18.343677692000963"
      ]
     },
     "execution_count": 82,
     "metadata": {},
     "output_type": "execute_result"
    }
   ],
   "source": [
    "arima_model, arima_result = fit_arima(y_train, order=(2, 0, 2))\n",
    "arima_predictions = arima_result.forecast(steps=len(y_test))\n",
    "arima_mae = mean_absolute_error(y_test, arima_predictions)\n",
    "arima_mae"
   ]
  },
  {
   "cell_type": "code",
   "execution_count": 83,
   "metadata": {},
   "outputs": [
    {
     "data": {
      "text/plain": [
       "26.77860538182816"
      ]
     },
     "execution_count": 83,
     "metadata": {},
     "output_type": "execute_result"
    }
   ],
   "source": [
    "arima_model, arima_result = fit_arima(y_train_fft, order=(2, 0, 1))\n",
    "arima_predictions = arima_result.forecast(steps=len(y_test_fft))\n",
    "arima_mae = mean_absolute_error(y_test_fft, arima_predictions)\n",
    "arima_mae"
   ]
  },
  {
   "cell_type": "code",
   "execution_count": 90,
   "metadata": {},
   "outputs": [
    {
     "name": "stdout",
     "output_type": "stream",
     "text": [
      "rides_t-672                    int64\n",
      "rides_t-671                    int64\n",
      "rides_t-670                    int64\n",
      "rides_t-669                    int64\n",
      "rides_t-668                    int64\n",
      "                           ...      \n",
      "rides_t-3                      int64\n",
      "rides_t-2                      int64\n",
      "rides_t-1                      int64\n",
      "pickup_hour           datetime64[ns]\n",
      "pickup_location_id             int16\n",
      "Length: 674, dtype: object\n"
     ]
    }
   ],
   "source": [
    "print(X_train.dtypes)"
   ]
  },
  {
   "cell_type": "code",
   "execution_count": 91,
   "metadata": {},
   "outputs": [
    {
     "name": "stdout",
     "output_type": "stream",
     "text": [
      "int16\n"
     ]
    }
   ],
   "source": [
    "print(y_train.dtypes)"
   ]
  },
  {
   "cell_type": "code",
   "execution_count": 135,
   "metadata": {},
   "outputs": [
    {
     "name": "stderr",
     "output_type": "stream",
     "text": [
      "INFO:prophet:Disabling yearly seasonality. Run prophet with yearly_seasonality=True to override this.\n",
      "INFO:prophet:Disabling daily seasonality. Run prophet with daily_seasonality=True to override this.\n",
      "DEBUG:cmdstanpy:input tempfile: /var/folders/10/l7cxtpss5ygbsz2r9p4pc_jw0000gn/T/tmp525ev7hs/myactr92.json\n",
      "DEBUG:cmdstanpy:input tempfile: /var/folders/10/l7cxtpss5ygbsz2r9p4pc_jw0000gn/T/tmp525ev7hs/ch4r5mnb.json\n",
      "DEBUG:cmdstanpy:idx 0\n",
      "DEBUG:cmdstanpy:running CmdStan, num_threads: None\n",
      "DEBUG:cmdstanpy:CmdStan args: ['/opt/miniconda3/envs/taxi_project/lib/python3.11/site-packages/prophet/stan_model/prophet_model.bin', 'random', 'seed=16978', 'data', 'file=/var/folders/10/l7cxtpss5ygbsz2r9p4pc_jw0000gn/T/tmp525ev7hs/myactr92.json', 'init=/var/folders/10/l7cxtpss5ygbsz2r9p4pc_jw0000gn/T/tmp525ev7hs/ch4r5mnb.json', 'output', 'file=/var/folders/10/l7cxtpss5ygbsz2r9p4pc_jw0000gn/T/tmp525ev7hs/prophet_modelbl2voo8m/prophet_model-20250305143200.csv', 'method=optimize', 'algorithm=lbfgs', 'iter=10000']\n",
      "14:32:00 - cmdstanpy - INFO - Chain [1] start processing\n",
      "INFO:cmdstanpy:Chain [1] start processing\n",
      "14:32:07 - cmdstanpy - INFO - Chain [1] done processing\n",
      "INFO:cmdstanpy:Chain [1] done processing\n"
     ]
    },
    {
     "data": {
      "image/png": "[encoded data removed]",
      "text/plain": [
       "<Figure size 1000x600 with 1 Axes>"
      ]
     },
     "metadata": {},
     "output_type": "display_data"
    },
    {
     "data": {
      "image/png": "[encoded data removed]",
      "text/plain": [
       "<Figure size 900x600 with 2 Axes>"
      ]
     },
     "metadata": {},
     "output_type": "display_data"
    },
    {
     "name": "stdout",
     "output_type": "stream",
     "text": [
      "Mean Squared Error: 1634.1123712038711\n",
      "Root Mean Squared Error: 40.4241557883881\n",
      "Mean Absolute Error: 18.213925988865487\n",
      "              ds        yhat   yhat_lower   yhat_upper\n",
      "17856 2071-12-19 -337.238642 -7301.418200  7744.452921\n",
      "17857 2071-12-20 -336.970218 -7330.531333  7742.222422\n",
      "17858 2071-12-21 -349.215462 -7384.756383  7687.479302\n",
      "17859 2071-12-22 -349.800525 -7341.351707  7703.672566\n",
      "17860 2071-12-23 -348.370510 -7366.996414  7701.756023\n"
     ]
    }
   ],
   "source": [
    "import pandas as pd\n",
    "import numpy as np\n",
    "from prophet import Prophet\n",
    "\n",
    "def prepare_data_for_prophet(df):\n",
    "    df_prophet = pd.DataFrame()\n",
    "    df_prophet['ds'] = df['pickup_hour']\n",
    "    df_prophet['y'] = df['target']  # Using the most recent ride data as the target\n",
    "    #df_prophet['pickup_location_id'] = df['pickup_location_id']\n",
    "    return df_prophet\n",
    "\n",
    "# Step 2: Create and fit Prophet model\n",
    "def fit_prophet_model(df_prophet):\n",
    "    model = Prophet()\n",
    "    #model.add_regressor('pickup_location_id')\n",
    "    model.fit(df_prophet)\n",
    "    return model\n",
    "\n",
    "# Step 3: Make predictions\n",
    "def make_predictions(model, periods=30):\n",
    "    future_dates = model.make_future_dataframe(periods=periods)\n",
    "    #future_dates['pickup_location_id'] = df_prophet['pickup_location_id'].iloc[-1]  # Assume last known location for future predictions\n",
    "    forecast = model.predict(future_dates)\n",
    "    return forecast\n",
    "\n",
    "# Step 4: Visualize results\n",
    "def visualize_results(model, forecast):\n",
    "    fig1 = model.plot(forecast)\n",
    "    fig2 = model.plot_components(forecast)\n",
    "    plt.show()\n",
    "\n",
    "# Step 5: Evaluate model performance\n",
    "def evaluate_model(df_prophet, forecast):\n",
    "    # Merge actual and predicted values\n",
    "    evaluation_df = pd.merge(df_prophet, forecast[['ds', 'yhat', 'yhat_lower', 'yhat_upper']], on='ds', how='left')\n",
    "    \n",
    "    # Calculate metrics\n",
    "    mse = np.mean((evaluation_df['y'] - evaluation_df['yhat'])**2)\n",
    "    rmse = np.sqrt(mse)\n",
    "    mae = np.mean(np.abs(evaluation_df['y'] - evaluation_df['yhat']))\n",
    "    \n",
    "    print(f\"Mean Squared Error: {mse}\")\n",
    "    print(f\"Root Mean Squared Error: {rmse}\")\n",
    "    print(f\"Mean Absolute Error: {mae}\")\n",
    "\n",
    "# Prepare data for Prophet\n",
    "df_prophet = prepare_data_for_prophet(df)\n",
    "\n",
    "# Split data into train and test sets\n",
    "train_size = int(len(df_prophet) * 0.8)\n",
    "df_train = df_prophet[:train_size]\n",
    "df_test = df_prophet[train_size:]\n",
    "\n",
    "# Fit model on training data\n",
    "model = fit_prophet_model(df_train)\n",
    "\n",
    "# Make predictions\n",
    "forecast = make_predictions(model, periods=len(df_test))\n",
    "\n",
    "# Visualize results\n",
    "visualize_results(model, forecast)\n",
    "\n",
    "# Evaluate model performance\n",
    "evaluate_model(df_test, forecast)\n",
    "\n",
    "# Print the forecast\n",
    "print(forecast[['ds', 'yhat', 'yhat_lower', 'yhat_upper']].tail())"
   ]
  }
 ],
 "metadata": {
  "kernelspec": {
   "display_name": "taxi_project",
   "language": "python",
   "name": "python3"
  },
  "language_info": {
   "codemirror_mode": {
    "name": "ipython",
    "version": 3
   },
   "file_extension": ".py",
   "mimetype": "text/x-python",
   "name": "python",
   "nbconvert_exporter": "python",
   "pygments_lexer": "ipython3",
   "version": "3.11.11"
  }
 },
 "nbformat": 4,
 "nbformat_minor": 2
}
