{
 "cells": [
  {
   "cell_type": "code",
   "execution_count": 121,
   "id": "1555e775-4045-409a-a2cd-b22934b5fe3b",
   "metadata": {},
   "outputs": [
    {
     "name": "stdout",
     "output_type": "stream",
     "text": [
      "The autoreload extension is already loaded. To reload it, use:\n",
      "  %reload_ext autoreload\n"
     ]
    }
   ],
   "source": [
    "%load_ext autoreload\n",
    "%autoreload 2"
   ]
  },
  {
   "cell_type": "code",
   "execution_count": 122,
   "id": "15e2d67e-a5c7-453c-84e8-a210c608e9f0",
   "metadata": {},
   "outputs": [],
   "source": [
    "import sys\n",
    "import os\n",
    "\n",
    "# Add the parent directory to the Python path\n",
    "sys.path.append(os.path.abspath(os.path.join(os.getcwd(), \"..\")))\n",
    "import src.config as config"
   ]
  },
  {
   "cell_type": "code",
   "execution_count": 123,
   "id": "05248d6f-2194-48dd-a582-77cbda1ad16c",
   "metadata": {},
   "outputs": [
    {
     "name": "stdout",
     "output_type": "stream",
     "text": [
      "Current UTC hour (ceiled): 2025-03-05 10:00:00+00:00\n"
     ]
    }
   ],
   "source": [
    "import src.config as config\n",
    "from src.inference import (\n",
    "    get_feature_store\n",
    ")\n",
    "\n",
    "from datetime import datetime, timezone, timedelta\n",
    "\n",
    "def get_current_utc_hour_ceiled():\n",
    "    \"\"\"Get current UTC time ceiled to the next hour\"\"\"\n",
    "    current = datetime.now(timezone.utc)\n",
    "    if current.minute > 0 or current.second > 0:\n",
    "        # Ceil to next hour\n",
    "        current = current + timedelta(hours=1)\n",
    "\n",
    "    # Reset minutes, seconds, and microseconds\n",
    "    current = current.replace(minute=0, second=0, microsecond=0)\n",
    "    return current\n",
    "\n",
    "# Usage\n",
    "current_hour = get_current_utc_hour_ceiled()\n",
    "print(f\"Current UTC hour (ceiled): {current_hour}\")"
   ]
  },
  {
   "cell_type": "code",
   "execution_count": 124,
   "id": "5c5559a0-89e2-458d-9bbc-b1ec103659f6",
   "metadata": {},
   "outputs": [],
   "source": [
    "def fetch_predictions():\n",
    "    current_date = pd.Timestamp.now(tz='Etc/UTC').ceil('h')\n",
    "\n",
    "    fs = get_feature_store()\n",
    "    fg = fs.get_feature_group(\n",
    "        name=config.FEATURE_GROUP_MODEL_PREDICTION,\n",
    "        version=1\n",
    "    )\n",
    "\n",
    "    query = fg.select_all()\n",
    "    query = query.filter(fg.pickup_hour == current_hour)\n",
    "\n",
    "    return query.read()"
   ]
  },
  {
   "cell_type": "code",
   "execution_count": 125,
   "id": "53a3af64-b773-43a6-bb10-c9e209cc6cb0",
   "metadata": {},
   "outputs": [
    {
     "name": "stdout",
     "output_type": "stream",
     "text": [
      "2025-03-05 04:15:58,360 INFO: Closing external client and cleaning up certificates.\n",
      "Connection closed.\n",
      "2025-03-05 04:15:58,366 INFO: Initializing external client\n",
      "2025-03-05 04:15:58,367 INFO: Base URL: https://c.app.hopsworks.ai:443\n"
     ]
    },
    {
     "name": "stdout",
     "output_type": "stream",
     "text": [
      "2025-03-05 04:15:58,969 INFO: Python Engine initialized.\n",
      "\n",
      "Logged in to project, explore it here https://c.app.hopsworks.ai:443/p/1214710\n"
     ]
    }
   ],
   "source": [
    "fs = get_feature_store()\n",
    "fg = fs.get_feature_group(\n",
    "    name=config.FEATURE_GROUP_MODEL_PREDICTION,\n",
    "    version=1\n",
    ")\n",
    "\n",
    "query = fg.select_all()"
   ]
  },
  {
   "cell_type": "code",
   "execution_count": 126,
   "id": "c6321059-d894-4f75-94c8-b4ea29bf8ea5",
   "metadata": {},
   "outputs": [
    {
     "name": "stdout",
     "output_type": "stream",
     "text": [
      "Finished: Reading data from Hopsworks, using Hopsworks Feature Query Service (1.15s) \n"
     ]
    }
   ],
   "source": [
    "df= query.read()"
   ]
  },
  {
   "cell_type": "code",
   "execution_count": null,
   "id": "367f3978-9a5d-4d97-b19a-88afcfb1d14f",
   "metadata": {},
   "outputs": [],
   "source": []
  },
  {
   "cell_type": "code",
   "execution_count": 127,
   "id": "8d03786a-90dc-425a-8e4e-3b4dca4a08fa",
   "metadata": {},
   "outputs": [
    {
     "data": {
      "text/html": [
       "<div>\n",
       "<style scoped>\n",
       "    .dataframe tbody tr th:only-of-type {\n",
       "        vertical-align: middle;\n",
       "    }\n",
       "\n",
       "    .dataframe tbody tr th {\n",
       "        vertical-align: top;\n",
       "    }\n",
       "\n",
       "    .dataframe thead th {\n",
       "        text-align: right;\n",
       "    }\n",
       "</style>\n",
       "<table border=\"1\" class=\"dataframe\">\n",
       "  <thead>\n",
       "    <tr style=\"text-align: right;\">\n",
       "      <th></th>\n",
       "      <th>pickup_location_id</th>\n",
       "      <th>predicted_demand</th>\n",
       "      <th>pickup_hour</th>\n",
       "    </tr>\n",
       "  </thead>\n",
       "  <tbody>\n",
       "    <tr>\n",
       "      <th>0</th>\n",
       "      <td>13</td>\n",
       "      <td>31.0</td>\n",
       "      <td>2025-03-05 08:00:00+00:00</td>\n",
       "    </tr>\n",
       "    <tr>\n",
       "      <th>1</th>\n",
       "      <td>41</td>\n",
       "      <td>15.0</td>\n",
       "      <td>2025-03-05 08:00:00+00:00</td>\n",
       "    </tr>\n",
       "    <tr>\n",
       "      <th>2</th>\n",
       "      <td>53</td>\n",
       "      <td>0.0</td>\n",
       "      <td>2025-03-05 08:00:00+00:00</td>\n",
       "    </tr>\n",
       "    <tr>\n",
       "      <th>3</th>\n",
       "      <td>81</td>\n",
       "      <td>0.0</td>\n",
       "      <td>2025-03-05 08:00:00+00:00</td>\n",
       "    </tr>\n",
       "    <tr>\n",
       "      <th>4</th>\n",
       "      <td>93</td>\n",
       "      <td>0.0</td>\n",
       "      <td>2025-03-05 08:00:00+00:00</td>\n",
       "    </tr>\n",
       "    <tr>\n",
       "      <th>...</th>\n",
       "      <td>...</td>\n",
       "      <td>...</td>\n",
       "      <td>...</td>\n",
       "    </tr>\n",
       "    <tr>\n",
       "      <th>751</th>\n",
       "      <td>144</td>\n",
       "      <td>10.0</td>\n",
       "      <td>2025-03-05 10:00:00+00:00</td>\n",
       "    </tr>\n",
       "    <tr>\n",
       "      <th>752</th>\n",
       "      <td>178</td>\n",
       "      <td>0.0</td>\n",
       "      <td>2025-03-05 10:00:00+00:00</td>\n",
       "    </tr>\n",
       "    <tr>\n",
       "      <th>753</th>\n",
       "      <td>29</td>\n",
       "      <td>0.0</td>\n",
       "      <td>2025-03-05 10:00:00+00:00</td>\n",
       "    </tr>\n",
       "    <tr>\n",
       "      <th>754</th>\n",
       "      <td>43</td>\n",
       "      <td>88.0</td>\n",
       "      <td>2025-03-05 10:00:00+00:00</td>\n",
       "    </tr>\n",
       "    <tr>\n",
       "      <th>755</th>\n",
       "      <td>237</td>\n",
       "      <td>19.0</td>\n",
       "      <td>2025-03-05 10:00:00+00:00</td>\n",
       "    </tr>\n",
       "  </tbody>\n",
       "</table>\n",
       "<p>756 rows × 3 columns</p>\n",
       "</div>"
      ],
      "text/plain": [
       "     pickup_location_id  predicted_demand               pickup_hour\n",
       "0                    13              31.0 2025-03-05 08:00:00+00:00\n",
       "1                    41              15.0 2025-03-05 08:00:00+00:00\n",
       "2                    53               0.0 2025-03-05 08:00:00+00:00\n",
       "3                    81               0.0 2025-03-05 08:00:00+00:00\n",
       "4                    93               0.0 2025-03-05 08:00:00+00:00\n",
       "..                  ...               ...                       ...\n",
       "751                 144              10.0 2025-03-05 10:00:00+00:00\n",
       "752                 178               0.0 2025-03-05 10:00:00+00:00\n",
       "753                  29               0.0 2025-03-05 10:00:00+00:00\n",
       "754                  43              88.0 2025-03-05 10:00:00+00:00\n",
       "755                 237              19.0 2025-03-05 10:00:00+00:00\n",
       "\n",
       "[756 rows x 3 columns]"
      ]
     },
     "execution_count": 127,
     "metadata": {},
     "output_type": "execute_result"
    }
   ],
   "source": [
    "df"
   ]
  },
  {
   "cell_type": "code",
   "execution_count": 128,
   "id": "90415d0c-053a-4fba-94dd-eb6d231875bd",
   "metadata": {},
   "outputs": [],
   "source": [
    "#a.info()"
   ]
  },
  {
   "cell_type": "code",
   "execution_count": 129,
   "id": "39ea132b-5a59-44cb-b155-fa765164e3cc",
   "metadata": {},
   "outputs": [
    {
     "name": "stdout",
     "output_type": "stream",
     "text": [
      "2025-03-05 04:16:02,953 INFO: Closing external client and cleaning up certificates.\n",
      "Connection closed.\n",
      "2025-03-05 04:16:02,967 INFO: Initializing external client\n",
      "2025-03-05 04:16:02,967 INFO: Base URL: https://c.app.hopsworks.ai:443\n",
      "2025-03-05 04:16:03,430 INFO: Python Engine initialized.\n",
      "\n",
      "Logged in to project, explore it here https://c.app.hopsworks.ai:443/p/1214710\n",
      "Current UTC time: 2025-03-05 09:16:02.953568+00:00\n",
      "Next hour: 2025-03-05 10:00:00+00:00\n",
      "Querying for date range: 2025-03-05 to 2025-03-06\n",
      "Filtering for hour: 2025-03-05 10:00\n",
      "Found 252 records\n"
     ]
    }
   ],
   "source": [
    "from datetime import datetime, timezone, timedelta\n",
    "\n",
    "def fetch_next_hour_predictions():\n",
    "    # Get current UTC time and round up to next hour\n",
    "    now = datetime.now(timezone.utc)\n",
    "    next_hour = (now + timedelta(hours=1)).replace(minute=0, second=0, microsecond=0)\n",
    "\n",
    "    # Extract components from the rounded-up time\n",
    "    year = next_hour.year\n",
    "    month = next_hour.month\n",
    "    day = next_hour.day\n",
    "    hour = next_hour.hour\n",
    "\n",
    "    # Create date strings in YYYY-MM-DD format\n",
    "    current_date = f\"{year}-{month:02d}-{day:02d}\"\n",
    "    next_date = next_hour + timedelta(days=1)\n",
    "    next_date_str = next_date.strftime(\"%Y-%m-%d\")\n",
    "\n",
    "    fs = get_feature_store()\n",
    "    fg = fs.get_feature_group(\n",
    "        name=config.FEATURE_GROUP_MODEL_PREDICTION,\n",
    "        version=1\n",
    "    )\n",
    "\n",
    "    # # First get the full day's data from Hopsworks\n",
    "    # df = fg.filter(\n",
    "    #     (fg.pickup_hour >= current_date) &\n",
    "    #     (fg.pickup_hour < next_date_str)\n",
    "    # ).read()\n",
    "\n",
    "    # Then filter for next hour in the DataFrame\n",
    "    hour_str = f\"{current_date} {hour:02d}:00\"\n",
    "    df_hour = df[df['pickup_hour'] == hour_str]\n",
    "\n",
    "    print(f\"Current UTC time: {now}\")\n",
    "    print(f\"Next hour: {next_hour}\")\n",
    "    print(f\"Querying for date range: {current_date} to {next_date_str}\")\n",
    "    print(f\"Filtering for hour: {hour_str}\")\n",
    "    print(f\"Found {len(df_hour)} records\")\n",
    "    return df_hour\n",
    "\n",
    "# Example usage:\n",
    "predictions = fetch_next_hour_predictions()"
   ]
  },
  {
   "cell_type": "code",
   "execution_count": 130,
   "id": "4c512f98-d569-4a9f-8391-d301b1226c91",
   "metadata": {},
   "outputs": [],
   "source": [
    "now = datetime.now(timezone.utc)"
   ]
  },
  {
   "cell_type": "code",
   "execution_count": 131,
   "id": "0e5671d3-701d-4fca-bb91-a697f622239a",
   "metadata": {},
   "outputs": [
    {
     "data": {
      "text/html": [
       "<div>\n",
       "<style scoped>\n",
       "    .dataframe tbody tr th:only-of-type {\n",
       "        vertical-align: middle;\n",
       "    }\n",
       "\n",
       "    .dataframe tbody tr th {\n",
       "        vertical-align: top;\n",
       "    }\n",
       "\n",
       "    .dataframe thead th {\n",
       "        text-align: right;\n",
       "    }\n",
       "</style>\n",
       "<table border=\"1\" class=\"dataframe\">\n",
       "  <thead>\n",
       "    <tr style=\"text-align: right;\">\n",
       "      <th></th>\n",
       "      <th>pickup_location_id</th>\n",
       "      <th>predicted_demand</th>\n",
       "      <th>pickup_hour</th>\n",
       "    </tr>\n",
       "  </thead>\n",
       "  <tbody>\n",
       "    <tr>\n",
       "      <th>504</th>\n",
       "      <td>45</td>\n",
       "      <td>2.0</td>\n",
       "      <td>2025-03-05 10:00:00+00:00</td>\n",
       "    </tr>\n",
       "    <tr>\n",
       "      <th>505</th>\n",
       "      <td>203</td>\n",
       "      <td>0.0</td>\n",
       "      <td>2025-03-05 10:00:00+00:00</td>\n",
       "    </tr>\n",
       "    <tr>\n",
       "      <th>506</th>\n",
       "      <td>231</td>\n",
       "      <td>26.0</td>\n",
       "      <td>2025-03-05 10:00:00+00:00</td>\n",
       "    </tr>\n",
       "    <tr>\n",
       "      <th>507</th>\n",
       "      <td>132</td>\n",
       "      <td>199.0</td>\n",
       "      <td>2025-03-05 10:00:00+00:00</td>\n",
       "    </tr>\n",
       "    <tr>\n",
       "      <th>508</th>\n",
       "      <td>260</td>\n",
       "      <td>1.0</td>\n",
       "      <td>2025-03-05 10:00:00+00:00</td>\n",
       "    </tr>\n",
       "    <tr>\n",
       "      <th>...</th>\n",
       "      <td>...</td>\n",
       "      <td>...</td>\n",
       "      <td>...</td>\n",
       "    </tr>\n",
       "    <tr>\n",
       "      <th>751</th>\n",
       "      <td>144</td>\n",
       "      <td>10.0</td>\n",
       "      <td>2025-03-05 10:00:00+00:00</td>\n",
       "    </tr>\n",
       "    <tr>\n",
       "      <th>752</th>\n",
       "      <td>178</td>\n",
       "      <td>0.0</td>\n",
       "      <td>2025-03-05 10:00:00+00:00</td>\n",
       "    </tr>\n",
       "    <tr>\n",
       "      <th>753</th>\n",
       "      <td>29</td>\n",
       "      <td>0.0</td>\n",
       "      <td>2025-03-05 10:00:00+00:00</td>\n",
       "    </tr>\n",
       "    <tr>\n",
       "      <th>754</th>\n",
       "      <td>43</td>\n",
       "      <td>88.0</td>\n",
       "      <td>2025-03-05 10:00:00+00:00</td>\n",
       "    </tr>\n",
       "    <tr>\n",
       "      <th>755</th>\n",
       "      <td>237</td>\n",
       "      <td>19.0</td>\n",
       "      <td>2025-03-05 10:00:00+00:00</td>\n",
       "    </tr>\n",
       "  </tbody>\n",
       "</table>\n",
       "<p>252 rows × 3 columns</p>\n",
       "</div>"
      ],
      "text/plain": [
       "     pickup_location_id  predicted_demand               pickup_hour\n",
       "504                  45               2.0 2025-03-05 10:00:00+00:00\n",
       "505                 203               0.0 2025-03-05 10:00:00+00:00\n",
       "506                 231              26.0 2025-03-05 10:00:00+00:00\n",
       "507                 132             199.0 2025-03-05 10:00:00+00:00\n",
       "508                 260               1.0 2025-03-05 10:00:00+00:00\n",
       "..                  ...               ...                       ...\n",
       "751                 144              10.0 2025-03-05 10:00:00+00:00\n",
       "752                 178               0.0 2025-03-05 10:00:00+00:00\n",
       "753                  29               0.0 2025-03-05 10:00:00+00:00\n",
       "754                  43              88.0 2025-03-05 10:00:00+00:00\n",
       "755                 237              19.0 2025-03-05 10:00:00+00:00\n",
       "\n",
       "[252 rows x 3 columns]"
      ]
     },
     "execution_count": 131,
     "metadata": {},
     "output_type": "execute_result"
    }
   ],
   "source": [
    "predictions"
   ]
  },
  {
   "cell_type": "code",
   "execution_count": 132,
   "id": "48c2c460-25c6-4c26-84e8-ae82a1fdcf33",
   "metadata": {},
   "outputs": [
    {
     "name": "stdout",
     "output_type": "stream",
     "text": [
      "<class 'pandas.core.frame.DataFrame'>\n",
      "RangeIndex: 756 entries, 0 to 755\n",
      "Data columns (total 3 columns):\n",
      " #   Column              Non-Null Count  Dtype                  \n",
      "---  ------              --------------  -----                  \n",
      " 0   pickup_location_id  756 non-null    int32                  \n",
      " 1   predicted_demand    756 non-null    float64                \n",
      " 2   pickup_hour         756 non-null    datetime64[us, Etc/UTC]\n",
      "dtypes: datetime64[us, Etc/UTC](1), float64(1), int32(1)\n",
      "memory usage: 14.9 KB\n"
     ]
    }
   ],
   "source": [
    "df.info()"
   ]
  },
  {
   "cell_type": "code",
   "execution_count": 133,
   "id": "5930b159-b4e4-4b51-acd9-0b7b167b6236",
   "metadata": {},
   "outputs": [],
   "source": [
    "import pandas as pd\n",
    "current_date = pd.Timestamp.now(tz='Etc/UTC').ceil('h')"
   ]
  },
  {
   "cell_type": "code",
   "execution_count": 134,
   "id": "14cb7cca-beba-4017-9fa0-5ad7b6acfe90",
   "metadata": {},
   "outputs": [],
   "source": [
    "dt = current_date.ceil('h')\n"
   ]
  },
  {
   "cell_type": "code",
   "execution_count": 135,
   "id": "455e4d11-8a5a-434c-b634-bbf9edd02bd7",
   "metadata": {},
   "outputs": [
    {
     "name": "stdout",
     "output_type": "stream",
     "text": [
      "2025-03-05 04:16:04,346 INFO: Closing external client and cleaning up certificates.\n",
      "Connection closed.\n",
      "2025-03-05 04:16:04,352 INFO: Initializing external client\n",
      "2025-03-05 04:16:04,352 INFO: Base URL: https://c.app.hopsworks.ai:443\n",
      "2025-03-05 04:16:04,969 INFO: Python Engine initialized.\n",
      "\n",
      "Logged in to project, explore it here https://c.app.hopsworks.ai:443/p/1214710\n",
      "Finished: Reading data from Hopsworks, using Hopsworks Feature Query Service (6.46s) \n"
     ]
    }
   ],
   "source": [
    "fs = get_feature_store()  \n",
    "fg = fs.get_feature_group(  \n",
    "    name=config.FEATURE_GROUP_MODEL_PREDICTION,  \n",
    "    version=1  \n",
    ")  \n",
    "query = fg.select_all() \n",
    "# query = query.filter(fg.pickup_hour >= \"2025-02-13 04:00\")\n",
    "query = query.filter(fg.pickup_hour > \"2025-02-13 05:00:00\")  \n",
    "results = query.read()"
   ]
  },
  {
   "cell_type": "code",
   "execution_count": 136,
   "id": "fab34fc8-2594-4dfd-8046-fa7ede562979",
   "metadata": {},
   "outputs": [
    {
     "name": "stdout",
     "output_type": "stream",
     "text": [
      "Finished: Reading data from Hopsworks, using Hopsworks Feature Query Service (4.70s) \n"
     ]
    },
    {
     "data": {
      "text/html": [
       "<div>\n",
       "<style scoped>\n",
       "    .dataframe tbody tr th:only-of-type {\n",
       "        vertical-align: middle;\n",
       "    }\n",
       "\n",
       "    .dataframe tbody tr th {\n",
       "        vertical-align: top;\n",
       "    }\n",
       "\n",
       "    .dataframe thead th {\n",
       "        text-align: right;\n",
       "    }\n",
       "</style>\n",
       "<table border=\"1\" class=\"dataframe\">\n",
       "  <thead>\n",
       "    <tr style=\"text-align: right;\">\n",
       "      <th></th>\n",
       "      <th>pickup_location_id</th>\n",
       "      <th>predicted_demand</th>\n",
       "      <th>pickup_hour</th>\n",
       "    </tr>\n",
       "  </thead>\n",
       "  <tbody>\n",
       "  </tbody>\n",
       "</table>\n",
       "</div>"
      ],
      "text/plain": [
       "Empty DataFrame\n",
       "Columns: [pickup_location_id, predicted_demand, pickup_hour]\n",
       "Index: []"
      ]
     },
     "execution_count": 136,
     "metadata": {},
     "output_type": "execute_result"
    }
   ],
   "source": [
    "fg.filter((fg.pickup_hour >= \"2025-02-13\") & (fg.pickup_hour < \"2025-02-14\")).read()"
   ]
  },
  {
   "cell_type": "code",
   "execution_count": 137,
   "id": "bb732f4b-65ee-4956-87b5-c9a9c2f367b3",
   "metadata": {},
   "outputs": [
    {
     "data": {
      "text/html": [
       "<div>\n",
       "<style scoped>\n",
       "    .dataframe tbody tr th:only-of-type {\n",
       "        vertical-align: middle;\n",
       "    }\n",
       "\n",
       "    .dataframe tbody tr th {\n",
       "        vertical-align: top;\n",
       "    }\n",
       "\n",
       "    .dataframe thead th {\n",
       "        text-align: right;\n",
       "    }\n",
       "</style>\n",
       "<table border=\"1\" class=\"dataframe\">\n",
       "  <thead>\n",
       "    <tr style=\"text-align: right;\">\n",
       "      <th></th>\n",
       "      <th>pickup_location_id</th>\n",
       "      <th>predicted_demand</th>\n",
       "      <th>pickup_hour</th>\n",
       "    </tr>\n",
       "  </thead>\n",
       "  <tbody>\n",
       "    <tr>\n",
       "      <th>0</th>\n",
       "      <td>13</td>\n",
       "      <td>31.0</td>\n",
       "      <td>2025-03-05 08:00:00+00:00</td>\n",
       "    </tr>\n",
       "    <tr>\n",
       "      <th>1</th>\n",
       "      <td>41</td>\n",
       "      <td>15.0</td>\n",
       "      <td>2025-03-05 08:00:00+00:00</td>\n",
       "    </tr>\n",
       "    <tr>\n",
       "      <th>2</th>\n",
       "      <td>53</td>\n",
       "      <td>0.0</td>\n",
       "      <td>2025-03-05 08:00:00+00:00</td>\n",
       "    </tr>\n",
       "    <tr>\n",
       "      <th>3</th>\n",
       "      <td>81</td>\n",
       "      <td>0.0</td>\n",
       "      <td>2025-03-05 08:00:00+00:00</td>\n",
       "    </tr>\n",
       "    <tr>\n",
       "      <th>4</th>\n",
       "      <td>93</td>\n",
       "      <td>0.0</td>\n",
       "      <td>2025-03-05 08:00:00+00:00</td>\n",
       "    </tr>\n",
       "    <tr>\n",
       "      <th>...</th>\n",
       "      <td>...</td>\n",
       "      <td>...</td>\n",
       "      <td>...</td>\n",
       "    </tr>\n",
       "    <tr>\n",
       "      <th>751</th>\n",
       "      <td>144</td>\n",
       "      <td>10.0</td>\n",
       "      <td>2025-03-05 10:00:00+00:00</td>\n",
       "    </tr>\n",
       "    <tr>\n",
       "      <th>752</th>\n",
       "      <td>178</td>\n",
       "      <td>0.0</td>\n",
       "      <td>2025-03-05 10:00:00+00:00</td>\n",
       "    </tr>\n",
       "    <tr>\n",
       "      <th>753</th>\n",
       "      <td>29</td>\n",
       "      <td>0.0</td>\n",
       "      <td>2025-03-05 10:00:00+00:00</td>\n",
       "    </tr>\n",
       "    <tr>\n",
       "      <th>754</th>\n",
       "      <td>43</td>\n",
       "      <td>88.0</td>\n",
       "      <td>2025-03-05 10:00:00+00:00</td>\n",
       "    </tr>\n",
       "    <tr>\n",
       "      <th>755</th>\n",
       "      <td>237</td>\n",
       "      <td>19.0</td>\n",
       "      <td>2025-03-05 10:00:00+00:00</td>\n",
       "    </tr>\n",
       "  </tbody>\n",
       "</table>\n",
       "<p>756 rows × 3 columns</p>\n",
       "</div>"
      ],
      "text/plain": [
       "     pickup_location_id  predicted_demand               pickup_hour\n",
       "0                    13              31.0 2025-03-05 08:00:00+00:00\n",
       "1                    41              15.0 2025-03-05 08:00:00+00:00\n",
       "2                    53               0.0 2025-03-05 08:00:00+00:00\n",
       "3                    81               0.0 2025-03-05 08:00:00+00:00\n",
       "4                    93               0.0 2025-03-05 08:00:00+00:00\n",
       "..                  ...               ...                       ...\n",
       "751                 144              10.0 2025-03-05 10:00:00+00:00\n",
       "752                 178               0.0 2025-03-05 10:00:00+00:00\n",
       "753                  29               0.0 2025-03-05 10:00:00+00:00\n",
       "754                  43              88.0 2025-03-05 10:00:00+00:00\n",
       "755                 237              19.0 2025-03-05 10:00:00+00:00\n",
       "\n",
       "[756 rows x 3 columns]"
      ]
     },
     "execution_count": 137,
     "metadata": {},
     "output_type": "execute_result"
    }
   ],
   "source": [
    "results"
   ]
  },
  {
   "cell_type": "code",
   "execution_count": 138,
   "id": "3015ad82-b0b7-42e0-b6e3-6e69550da93a",
   "metadata": {},
   "outputs": [],
   "source": [
    "def fetch_next_hour_predictions():\n",
    "    # Get current UTC time and round up to next hour\n",
    "    now = datetime.now(timezone.utc)\n",
    "    next_hour = (now + timedelta(hours=1)).replace(minute=0, second=0, microsecond=0)\n",
    "\n",
    "    fs = get_feature_store()\n",
    "    fg = fs.get_feature_group(name=config.FEATURE_GROUP_MODEL_PREDICTION, version=1)\n",
    "\n",
    "    # Then filter for next hour in the DataFrame\n",
    "    df_hour = df[df[\"pickup_hour\"] == next_hour]\n",
    "\n",
    "    print(f\"Current UTC time: {now}\")\n",
    "    print(f\"Next hour: {next_hour}\")\n",
    "    print(f\"Found {len(df_hour)} records\")\n",
    "    return df_hour"
   ]
  },
  {
   "cell_type": "code",
   "execution_count": 139,
   "id": "1a42dc2b-f1b3-40a2-8610-1bed9c822355",
   "metadata": {},
   "outputs": [
    {
     "name": "stdout",
     "output_type": "stream",
     "text": [
      "2025-03-05 04:16:23,268 INFO: Closing external client and cleaning up certificates.\n",
      "Connection closed.\n",
      "2025-03-05 04:16:23,279 INFO: Initializing external client\n",
      "2025-03-05 04:16:23,279 INFO: Base URL: https://c.app.hopsworks.ai:443\n",
      "2025-03-05 04:16:23,781 INFO: Python Engine initialized.\n",
      "\n",
      "Logged in to project, explore it here https://c.app.hopsworks.ai:443/p/1214710\n",
      "Current UTC time: 2025-03-05 09:16:23.268794+00:00\n",
      "Next hour: 2025-03-05 10:00:00+00:00\n",
      "Found 252 records\n"
     ]
    }
   ],
   "source": [
    "predictions = fetch_next_hour_predictions()"
   ]
  },
  {
   "cell_type": "code",
   "execution_count": 140,
   "id": "6495da67-1068-41e0-9092-458c11626900",
   "metadata": {},
   "outputs": [
    {
     "name": "stdout",
     "output_type": "stream",
     "text": [
      "2025-03-05 04:16:24,541 INFO: Closing external client and cleaning up certificates.\n",
      "Connection closed.\n",
      "2025-03-05 04:16:24,546 INFO: Initializing external client\n",
      "2025-03-05 04:16:24,546 INFO: Base URL: https://c.app.hopsworks.ai:443\n",
      "2025-03-05 04:16:25,099 INFO: Python Engine initialized.\n",
      "\n",
      "Logged in to project, explore it here https://c.app.hopsworks.ai:443/p/1214710\n"
     ]
    }
   ],
   "source": [
    "fs = get_feature_store()\n",
    "fg = fs.get_feature_group(name=config.FEATURE_GROUP_MODEL_PREDICTION, version=1)\n",
    "\n"
   ]
  },
  {
   "cell_type": "code",
   "execution_count": 141,
   "id": "9761c899-38c7-4560-9226-d41ce20811df",
   "metadata": {},
   "outputs": [
    {
     "name": "stdout",
     "output_type": "stream",
     "text": [
      "Finished: Reading data from Hopsworks, using Hopsworks Feature Query Service (0.56s) \n"
     ]
    }
   ],
   "source": [
    "df = fg.read()"
   ]
  },
  {
   "cell_type": "code",
   "execution_count": 142,
   "id": "90052c02-a072-423f-95d5-086c1ca786eb",
   "metadata": {},
   "outputs": [
    {
     "data": {
      "text/plain": [
       "Timestamp('2025-03-05 10:00:00+0000', tz='Etc/UTC')"
      ]
     },
     "execution_count": 142,
     "metadata": {},
     "output_type": "execute_result"
    }
   ],
   "source": [
    "df[\"pickup_hour\"].max()"
   ]
  },
  {
   "cell_type": "code",
   "execution_count": 143,
   "id": "30f5c3e8-156e-44a5-ac8a-ccb1479a6936",
   "metadata": {},
   "outputs": [
    {
     "name": "stdout",
     "output_type": "stream",
     "text": [
      "2025-03-05 10:00:00+00:00\n"
     ]
    }
   ],
   "source": [
    "now = datetime.now(timezone.utc)\n",
    "next_hour = (now + timedelta(hours=1)).replace(minute=0, second=0, microsecond=0)\n",
    "print(next_hour)"
   ]
  },
  {
   "cell_type": "code",
   "execution_count": 144,
   "id": "02ebe046-ae58-489e-99e7-a4f27755a10f",
   "metadata": {},
   "outputs": [
    {
     "data": {
      "text/html": [
       "<div>\n",
       "<style scoped>\n",
       "    .dataframe tbody tr th:only-of-type {\n",
       "        vertical-align: middle;\n",
       "    }\n",
       "\n",
       "    .dataframe tbody tr th {\n",
       "        vertical-align: top;\n",
       "    }\n",
       "\n",
       "    .dataframe thead th {\n",
       "        text-align: right;\n",
       "    }\n",
       "</style>\n",
       "<table border=\"1\" class=\"dataframe\">\n",
       "  <thead>\n",
       "    <tr style=\"text-align: right;\">\n",
       "      <th></th>\n",
       "      <th>pickup_location_id</th>\n",
       "      <th>predicted_demand</th>\n",
       "      <th>pickup_hour</th>\n",
       "    </tr>\n",
       "  </thead>\n",
       "  <tbody>\n",
       "    <tr>\n",
       "      <th>504</th>\n",
       "      <td>45</td>\n",
       "      <td>2.0</td>\n",
       "      <td>2025-03-05 10:00:00+00:00</td>\n",
       "    </tr>\n",
       "    <tr>\n",
       "      <th>505</th>\n",
       "      <td>203</td>\n",
       "      <td>0.0</td>\n",
       "      <td>2025-03-05 10:00:00+00:00</td>\n",
       "    </tr>\n",
       "    <tr>\n",
       "      <th>506</th>\n",
       "      <td>231</td>\n",
       "      <td>26.0</td>\n",
       "      <td>2025-03-05 10:00:00+00:00</td>\n",
       "    </tr>\n",
       "    <tr>\n",
       "      <th>507</th>\n",
       "      <td>132</td>\n",
       "      <td>199.0</td>\n",
       "      <td>2025-03-05 10:00:00+00:00</td>\n",
       "    </tr>\n",
       "    <tr>\n",
       "      <th>508</th>\n",
       "      <td>260</td>\n",
       "      <td>1.0</td>\n",
       "      <td>2025-03-05 10:00:00+00:00</td>\n",
       "    </tr>\n",
       "    <tr>\n",
       "      <th>...</th>\n",
       "      <td>...</td>\n",
       "      <td>...</td>\n",
       "      <td>...</td>\n",
       "    </tr>\n",
       "    <tr>\n",
       "      <th>751</th>\n",
       "      <td>144</td>\n",
       "      <td>10.0</td>\n",
       "      <td>2025-03-05 10:00:00+00:00</td>\n",
       "    </tr>\n",
       "    <tr>\n",
       "      <th>752</th>\n",
       "      <td>178</td>\n",
       "      <td>0.0</td>\n",
       "      <td>2025-03-05 10:00:00+00:00</td>\n",
       "    </tr>\n",
       "    <tr>\n",
       "      <th>753</th>\n",
       "      <td>29</td>\n",
       "      <td>0.0</td>\n",
       "      <td>2025-03-05 10:00:00+00:00</td>\n",
       "    </tr>\n",
       "    <tr>\n",
       "      <th>754</th>\n",
       "      <td>43</td>\n",
       "      <td>88.0</td>\n",
       "      <td>2025-03-05 10:00:00+00:00</td>\n",
       "    </tr>\n",
       "    <tr>\n",
       "      <th>755</th>\n",
       "      <td>237</td>\n",
       "      <td>19.0</td>\n",
       "      <td>2025-03-05 10:00:00+00:00</td>\n",
       "    </tr>\n",
       "  </tbody>\n",
       "</table>\n",
       "<p>252 rows × 3 columns</p>\n",
       "</div>"
      ],
      "text/plain": [
       "     pickup_location_id  predicted_demand               pickup_hour\n",
       "504                  45               2.0 2025-03-05 10:00:00+00:00\n",
       "505                 203               0.0 2025-03-05 10:00:00+00:00\n",
       "506                 231              26.0 2025-03-05 10:00:00+00:00\n",
       "507                 132             199.0 2025-03-05 10:00:00+00:00\n",
       "508                 260               1.0 2025-03-05 10:00:00+00:00\n",
       "..                  ...               ...                       ...\n",
       "751                 144              10.0 2025-03-05 10:00:00+00:00\n",
       "752                 178               0.0 2025-03-05 10:00:00+00:00\n",
       "753                  29               0.0 2025-03-05 10:00:00+00:00\n",
       "754                  43              88.0 2025-03-05 10:00:00+00:00\n",
       "755                 237              19.0 2025-03-05 10:00:00+00:00\n",
       "\n",
       "[252 rows x 3 columns]"
      ]
     },
     "execution_count": 144,
     "metadata": {},
     "output_type": "execute_result"
    }
   ],
   "source": [
    "df[df[\"pickup_hour\"] == next_hour]"
   ]
  }
 ],
 "metadata": {
  "kernelspec": {
   "display_name": "taxi_project",
   "language": "python",
   "name": "python3"
  },
  "language_info": {
   "codemirror_mode": {
    "name": "ipython",
    "version": 3
   },
   "file_extension": ".py",
   "mimetype": "text/x-python",
   "name": "python",
   "nbconvert_exporter": "python",
   "pygments_lexer": "ipython3",
   "version": "3.11.11"
  }
 },
 "nbformat": 4,
 "nbformat_minor": 5
}
